{
 "cells": [
  {
   "cell_type": "code",
   "execution_count": 11,
   "id": "79b719b8",
   "metadata": {},
   "outputs": [],
   "source": [
    "from tensorflow.keras.models import Model\n",
    "from tensorflow.keras.layers import Flatten, Dense, Dropout, Input\n",
    "from tensorflow.keras.applications import InceptionV3\n",
    "from tensorflow.keras.optimizers import Adam\n",
    "from tensorflow.keras.preprocessing.image import ImageDataGenerator\n"
   ]
  },
  {
   "cell_type": "code",
   "execution_count": 12,
   "id": "dbabfd3a",
   "metadata": {},
   "outputs": [],
   "source": [
    "batchsize=32"
   ]
  },
  {
   "cell_type": "code",
   "execution_count": 13,
   "id": "5ee35afb",
   "metadata": {},
   "outputs": [
    {
     "name": "stdout",
     "output_type": "stream",
     "text": [
      "Found 64620 images belonging to 2 classes.\n",
      "Found 16155 images belonging to 2 classes.\n"
     ]
    }
   ],
   "source": [
    "train_datagen=ImageDataGenerator(rescale=1./255,rotation_range=0.2,shear_range=0.2,zoom_range=0.2,width_shift_range=0.2,\n",
    "                             height_shift_range=0.2,validation_split=0.2, horizontal_flip=True)\n",
    "train_data= train_datagen.flow_from_directory(r'C:\\Users\\mohmu\\OneDrive\\Pictures\\dataset\\preset\\train',\n",
    "                                target_size=(80,80),batch_size=batchsize,class_mode='categorical',subset= 'training')\n",
    "\n",
    "validation_data=train_datagen.flow_from_directory(r'C:\\Users\\mohmu\\OneDrive\\Pictures\\dataset\\preset\\train',\n",
    "                                target_size=(80,80),batch_size=batchsize,class_mode='categorical' ,subset='validation')\n"
   ]
  },
  {
   "cell_type": "code",
   "execution_count": 14,
   "id": "779f81ad",
   "metadata": {},
   "outputs": [
    {
     "name": "stdout",
     "output_type": "stream",
     "text": [
      "Found 80775 images belonging to 2 classes.\n"
     ]
    }
   ],
   "source": [
    "test_datagen=ImageDataGenerator(rescale=1./255)\n",
    "test_data=test_datagen.flow_from_directory(r'C:\\Users\\mohmu\\OneDrive\\Pictures\\dataset\\preset\\train',\n",
    "                                target_size=(80,80),batch_size=batchsize,class_mode='categorical')"
   ]
  },
  {
   "cell_type": "code",
   "execution_count": 24,
   "id": "49984b0d",
   "metadata": {},
   "outputs": [
    {
     "name": "stdout",
     "output_type": "stream",
     "text": [
      "Found 80775 images belonging to 2 classes.\n"
     ]
    },
    {
     "name": "stderr",
     "output_type": "stream",
     "text": [
      "WARNING:absl:`lr` is deprecated in Keras optimizer, please use `learning_rate` or use the legacy optimizer, e.g.,tf.keras.optimizers.legacy.Adam.\n"
     ]
    },
    {
     "name": "stdout",
     "output_type": "stream",
     "text": [
      "Epoch 1/50\n",
      "2525/2525 [==============================] - 340s 133ms/step - loss: 0.1452 - accuracy: 0.9449\n",
      "Epoch 2/50\n",
      "2525/2525 [==============================] - 339s 134ms/step - loss: 0.1161 - accuracy: 0.9568\n",
      "Epoch 3/50\n",
      "2525/2525 [==============================] - 372s 147ms/step - loss: 0.1076 - accuracy: 0.9594\n",
      "Epoch 4/50\n",
      "2525/2525 [==============================] - 350s 139ms/step - loss: 0.1019 - accuracy: 0.9615\n",
      "Epoch 5/50\n",
      "2525/2525 [==============================] - 365s 145ms/step - loss: 0.0975 - accuracy: 0.9631\n",
      "Epoch 6/50\n",
      "2525/2525 [==============================] - 351s 139ms/step - loss: 0.0943 - accuracy: 0.9642\n",
      "Epoch 7/50\n",
      "2525/2525 [==============================] - 352s 139ms/step - loss: 0.0909 - accuracy: 0.9663\n",
      "Epoch 8/50\n",
      "2525/2525 [==============================] - 385s 153ms/step - loss: 0.0896 - accuracy: 0.9657\n",
      "Epoch 9/50\n",
      "2525/2525 [==============================] - 383s 152ms/step - loss: 0.0863 - accuracy: 0.9677\n",
      "Epoch 10/50\n",
      "2525/2525 [==============================] - 371s 147ms/step - loss: 0.0864 - accuracy: 0.9682\n",
      "Epoch 11/50\n",
      "2525/2525 [==============================] - 351s 139ms/step - loss: 0.0851 - accuracy: 0.9687\n",
      "Epoch 12/50\n",
      "2525/2525 [==============================] - 356s 141ms/step - loss: 0.0821 - accuracy: 0.9688\n",
      "Epoch 13/50\n",
      "2525/2525 [==============================] - 354s 140ms/step - loss: 0.0813 - accuracy: 0.9699\n",
      "Epoch 14/50\n",
      "2525/2525 [==============================] - 362s 143ms/step - loss: 0.0809 - accuracy: 0.9697\n",
      "Epoch 15/50\n",
      "2525/2525 [==============================] - 405s 160ms/step - loss: 0.0803 - accuracy: 0.9702\n",
      "Epoch 16/50\n",
      "2525/2525 [==============================] - 338s 134ms/step - loss: 0.0793 - accuracy: 0.9708\n",
      "Epoch 17/50\n",
      "2525/2525 [==============================] - 305s 121ms/step - loss: 0.0774 - accuracy: 0.9709\n",
      "Epoch 18/50\n",
      "2525/2525 [==============================] - 343s 136ms/step - loss: 0.0770 - accuracy: 0.9715\n",
      "Epoch 19/50\n",
      "2525/2525 [==============================] - 340s 134ms/step - loss: 0.0764 - accuracy: 0.9715\n",
      "Epoch 20/50\n",
      "2525/2525 [==============================] - 288s 114ms/step - loss: 0.0745 - accuracy: 0.9723\n",
      "Epoch 21/50\n",
      "2525/2525 [==============================] - 298s 118ms/step - loss: 0.0756 - accuracy: 0.9721\n",
      "Epoch 22/50\n",
      "2525/2525 [==============================] - 307s 122ms/step - loss: 0.0753 - accuracy: 0.9723\n",
      "Epoch 23/50\n",
      "2525/2525 [==============================] - 336s 133ms/step - loss: 0.0748 - accuracy: 0.9723\n",
      "Epoch 24/50\n",
      "2525/2525 [==============================] - 348s 138ms/step - loss: 0.0741 - accuracy: 0.9730\n",
      "Epoch 25/50\n",
      "2525/2525 [==============================] - 365s 144ms/step - loss: 0.0742 - accuracy: 0.9732\n",
      "Epoch 26/50\n",
      "2525/2525 [==============================] - 350s 138ms/step - loss: 0.0741 - accuracy: 0.9731\n",
      "Epoch 27/50\n",
      "2525/2525 [==============================] - 353s 140ms/step - loss: 0.0722 - accuracy: 0.9737\n",
      "Epoch 28/50\n",
      "2525/2525 [==============================] - 347s 138ms/step - loss: 0.0716 - accuracy: 0.9730\n",
      "Epoch 29/50\n",
      "2525/2525 [==============================] - 358s 142ms/step - loss: 0.0716 - accuracy: 0.9736\n",
      "Epoch 30/50\n",
      "2525/2525 [==============================] - 393s 156ms/step - loss: 0.0716 - accuracy: 0.9739\n",
      "Epoch 31/50\n",
      "2525/2525 [==============================] - 361s 143ms/step - loss: 0.0692 - accuracy: 0.9745\n",
      "Epoch 32/50\n",
      "2525/2525 [==============================] - 322s 127ms/step - loss: 0.0697 - accuracy: 0.9751\n",
      "Epoch 33/50\n",
      "2525/2525 [==============================] - 334s 132ms/step - loss: 0.0692 - accuracy: 0.9743\n",
      "Epoch 34/50\n",
      "2525/2525 [==============================] - 394s 156ms/step - loss: 0.0687 - accuracy: 0.9750\n",
      "Epoch 35/50\n",
      "2525/2525 [==============================] - 480s 190ms/step - loss: 0.0693 - accuracy: 0.9751\n",
      "Epoch 36/50\n",
      "2525/2525 [==============================] - 445s 176ms/step - loss: 0.0696 - accuracy: 0.9743\n",
      "Epoch 37/50\n",
      "2525/2525 [==============================] - 350s 139ms/step - loss: 0.0683 - accuracy: 0.9748\n",
      "Epoch 38/50\n",
      "2525/2525 [==============================] - 358s 142ms/step - loss: 0.0691 - accuracy: 0.9744\n",
      "Epoch 39/50\n",
      "2525/2525 [==============================] - 355s 141ms/step - loss: 0.0686 - accuracy: 0.9754\n",
      "Epoch 40/50\n",
      "2525/2525 [==============================] - 358s 142ms/step - loss: 0.0677 - accuracy: 0.9756\n",
      "Epoch 41/50\n",
      "2525/2525 [==============================] - 356s 141ms/step - loss: 0.0669 - accuracy: 0.9751\n",
      "Epoch 42/50\n",
      "2525/2525 [==============================] - 360s 142ms/step - loss: 0.0663 - accuracy: 0.9757\n",
      "Epoch 43/50\n",
      "2525/2525 [==============================] - 354s 140ms/step - loss: 0.0649 - accuracy: 0.9763\n",
      "Epoch 44/50\n",
      "2525/2525 [==============================] - 365s 144ms/step - loss: 0.0689 - accuracy: 0.9746\n",
      "Epoch 45/50\n",
      "2525/2525 [==============================] - 363s 144ms/step - loss: 0.0678 - accuracy: 0.9753\n",
      "Epoch 46/50\n",
      "2525/2525 [==============================] - 357s 141ms/step - loss: 0.0651 - accuracy: 0.9760\n",
      "Epoch 47/50\n",
      "2525/2525 [==============================] - 365s 144ms/step - loss: 0.0678 - accuracy: 0.9757\n",
      "Epoch 48/50\n",
      "2525/2525 [==============================] - 359s 142ms/step - loss: 0.0660 - accuracy: 0.9757\n",
      "Epoch 49/50\n",
      "2525/2525 [==============================] - 355s 141ms/step - loss: 0.0650 - accuracy: 0.9758\n",
      "Epoch 50/50\n",
      "2525/2525 [==============================] - 356s 141ms/step - loss: 0.0657 - accuracy: 0.9763\n"
     ]
    },
    {
     "data": {
      "text/plain": [
       "<keras.src.callbacks.History at 0x24bac73c580>"
      ]
     },
     "execution_count": 24,
     "metadata": {},
     "output_type": "execute_result"
    }
   ],
   "source": [
    "from tensorflow.keras.models import Model\n",
    "from tensorflow.keras.layers import Flatten, Dense, Dropout, Input\n",
    "from tensorflow.keras.applications import InceptionV3\n",
    "from tensorflow.keras.optimizers import Adam\n",
    "from tensorflow.keras.preprocessing.image import ImageDataGenerator\n",
    "\n",
    "\n",
    "train_datagen = ImageDataGenerator(\n",
    "    rescale=1./255,\n",
    "    shear_range=0.2,\n",
    "    zoom_range=0.2,\n",
    "    horizontal_flip=True\n",
    ")\n",
    "\n",
    "train_generator = train_datagen.flow_from_directory(\n",
    "    r'C:\\Users\\mohmu\\OneDrive\\Pictures\\dataset\\preset\\train',\n",
    "    target_size=(80, 80),\n",
    "    batch_size=32,\n",
    "    class_mode='categorical'\n",
    ")\n",
    "\n",
    "bmodel = InceptionV3(include_top=False, weights='imagenet', input_tensor=Input(shape=(80, 80, 3)))\n",
    "hmodel = bmodel.output\n",
    "hmodel = Flatten()(hmodel)\n",
    "hmodel = Dense(128, activation='relu')(hmodel)  \n",
    "hmodel = Dropout(0.5)(hmodel)\n",
    "hmodel = Dense(2, activation='softmax')(hmodel)\n",
    "\n",
    "model = Model(inputs=bmodel.input, outputs=hmodel)\n",
    "\n",
    "for layer in model.layers[:-5]:\n",
    "    layer.trainable = False\n",
    "\n",
    "model.compile(optimizer=Adam(lr=0.0001), loss='categorical_crossentropy', metrics=['accuracy'])\n",
    "\n",
    "model.fit(train_generator, epochs=50)\n"
   ]
  },
  {
   "cell_type": "code",
   "execution_count": null,
   "id": "5fec3a26",
   "metadata": {},
   "outputs": [],
   "source": []
  }
 ],
 "metadata": {
  "kernelspec": {
   "display_name": "Python 3 (ipykernel)",
   "language": "python",
   "name": "python3"
  },
  "language_info": {
   "codemirror_mode": {
    "name": "ipython",
    "version": 3
   },
   "file_extension": ".py",
   "mimetype": "text/x-python",
   "name": "python",
   "nbconvert_exporter": "python",
   "pygments_lexer": "ipython3",
   "version": "3.9.18"
  }
 },
 "nbformat": 4,
 "nbformat_minor": 5
}
